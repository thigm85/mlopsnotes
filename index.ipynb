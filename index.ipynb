{
 "cells": [
  {
   "cell_type": "code",
   "execution_count": null,
   "metadata": {},
   "outputs": [],
   "source": [
    "#| hide\n",
    "from mlopsnotes.core import *"
   ]
  },
  {
   "cell_type": "markdown",
   "metadata": {},
   "source": [
    "# mlopsnotes\n",
    "\n",
    "> Notes about mlops"
   ]
  }
 ],
 "metadata": {
  "kernelspec": {
   "display_name": "mlopsnotes",
   "language": "python",
   "name": "mlopsnotes"
  }
 },
 "nbformat": 4,
 "nbformat_minor": 4
}
